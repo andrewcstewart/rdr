{
 "cells": [
  {
   "cell_type": "markdown",
   "metadata": {},
   "source": [
    "# hiyapyco"
   ]
  },
  {
   "cell_type": "code",
   "execution_count": 1,
   "metadata": {},
   "outputs": [],
   "source": [
    "import hiyapyco"
   ]
  },
  {
   "cell_type": "code",
   "execution_count": 17,
   "metadata": {},
   "outputs": [
    {
     "name": "stdout",
     "output_type": "stream",
     "text": [
      "name: test_project\n",
      "version: 1\n",
      "rdr-path: .rdr\n",
      "dp-path: .rdr/protocols/dp\n",
      "mp-path: .rdr/protocols/mp\n",
      "ep-path: .rdr/protocols/ep\n",
      "identifier-prefix: ID\n",
      "identifier-padding: 4\n",
      "protocols:\n",
      "  methods: null\n",
      "\n"
     ]
    }
   ],
   "source": [
    "conf = hiyapyco.load('../example/rdr.yml/protocols/mp/MP-0001.md')\n",
    "# print(hiyapyco.dump(conf, default_flow_style=False))"
   ]
  },
  {
   "cell_type": "code",
   "execution_count": 5,
   "metadata": {},
   "outputs": [
    {
     "data": {
      "text/plain": [
       "odict_values(['test_project', 1, '.rdr', '.rdr/protocols/dp', '.rdr/protocols/mp', '.rdr/protocols/ep', 'ID', 4, OrderedDict([('methods', None)])])"
      ]
     },
     "execution_count": 5,
     "metadata": {},
     "output_type": "execute_result"
    }
   ],
   "source": [
    "conf.values()"
   ]
  },
  {
   "cell_type": "markdown",
   "metadata": {},
   "source": [
    "## `confuse`"
   ]
  },
  {
   "cell_type": "code",
   "execution_count": 7,
   "metadata": {},
   "outputs": [],
   "source": [
    "import confuse\n",
    "\n",
    "# Instantiates config. Confuse searches for a config_default.yaml\n",
    "config = confuse.Configuration('MyGreatApp', __name__)\n",
    "\n",
    "# Add config items from specified file. Relative path values within the\n",
    "# file are resolved relative to the application's configuration directory.\n",
    "config.set_file('/workspace/example/rdr.yaml', base_for_paths=True)\n",
    "\n",
    "# Add config items from a second file. If some items were already defined,\n",
    "# they will be overwritten (new file precedes the previous ones). With\n",
    "# `base_for_paths` set to True, relative path values in this file will be\n",
    "# resolved relative to the config file's directory (i.e., 'subdirectory').\n",
    "# config.set_file('subdirectory/local_config.yaml', base_for_paths=True)\n",
    "\n",
    "# config['foo']['bar'].get(int)\n"
   ]
  },
  {
   "cell_type": "code",
   "execution_count": 8,
   "metadata": {},
   "outputs": [
    {
     "data": {
      "text/plain": [
       "'/workspace/example/.rdr/protocols/mp'"
      ]
     },
     "execution_count": 8,
     "metadata": {},
     "output_type": "execute_result"
    }
   ],
   "source": [
    "config['mp-path'].as_filename()"
   ]
  },
  {
   "cell_type": "code",
   "execution_count": 75,
   "metadata": {},
   "outputs": [
    {
     "data": {
      "text/plain": [
       "OrderedDict([('methods', None)])"
      ]
     },
     "execution_count": 75,
     "metadata": {},
     "output_type": "execute_result"
    }
   ],
   "source": [
    "config['protocols'].get()"
   ]
  },
  {
   "cell_type": "code",
   "execution_count": 5,
   "metadata": {},
   "outputs": [
    {
     "name": "stdout",
     "output_type": "stream",
     "text": [
      "name: test_project\n",
      "version: 1\n",
      "rdr-path: .rdr\n",
      "dp-path: .rdr/protocols/dp\n",
      "mp-path: .rdr/protocols/mp\n",
      "ep-path: .rdr/protocols/ep\n",
      "identifier-prefix: ID\n",
      "identifier-padding: 4\n",
      "protocols:\n",
      "    methods:\n",
      "\n"
     ]
    }
   ],
   "source": [
    "print(config.dump())"
   ]
  },
  {
   "cell_type": "markdown",
   "metadata": {},
   "source": [
    "# search upward"
   ]
  },
  {
   "cell_type": "code",
   "execution_count": 9,
   "metadata": {},
   "outputs": [],
   "source": [
    "from pathlib import Path\n",
    "\n",
    "\n",
    "def search_upwards_for_file(filename):\n",
    "    \"\"\"Search in the current directory and all directories above it \n",
    "    for a file of a particular name.\n",
    "\n",
    "    Arguments:\n",
    "    ---------\n",
    "    filename :: string, the filename to look for.\n",
    "\n",
    "    Returns\n",
    "    -------\n",
    "    pathlib.Path, the location of the first file found or\n",
    "    None, if none was found\n",
    "    \"\"\"\n",
    "    d = Path.cwd()\n",
    "    root = Path(d.root)\n",
    "\n",
    "    while d != root:\n",
    "        attempt = d / filename\n",
    "        if attempt.exists():\n",
    "            return attempt\n",
    "        d = d.parent\n",
    "\n",
    "    return None\n"
   ]
  },
  {
   "cell_type": "code",
   "execution_count": 6,
   "metadata": {},
   "outputs": [
    {
     "name": "stdout",
     "output_type": "stream",
     "text": [
      "/workspace/example/subdir1\n",
      "name: test_project\n",
      "version: 1\n",
      "rdr-path: .rdr\n",
      "dp-path: .rdr/protocols/dp\n",
      "mp-path: .rdr/protocols/mp\n",
      "ep-path: .rdr/protocols/ep\n",
      "identifier-prefix: ID\n",
      "identifier-padding: 4\n",
      "protocols:\n",
      "    methods:\n",
      "\n"
     ]
    }
   ],
   "source": [
    "import os\n",
    "\n",
    "os.chdir(\"/workspace/example/subdir1\")\n",
    "print(os.getcwd())\n",
    "conf_path = search_upwards_for_file(\"rdr.yaml\")\n",
    "\n",
    "config = confuse.Configuration('rdr', __name__)\n",
    "config.set_file(conf_path)\n",
    "\n",
    "print(config.dump())\n"
   ]
  },
  {
   "cell_type": "code",
   "execution_count": 48,
   "metadata": {},
   "outputs": [
    {
     "data": {
      "text/plain": [
       "'.rdr'"
      ]
     },
     "execution_count": 48,
     "metadata": {},
     "output_type": "execute_result"
    }
   ],
   "source": [
    "config['rdr-path'].get()"
   ]
  },
  {
   "cell_type": "code",
   "execution_count": 57,
   "metadata": {},
   "outputs": [],
   "source": [
    "with open(\"test.yml\", 'w') as fh:\n",
    "    fh.write(config.dump())"
   ]
  },
  {
   "cell_type": "markdown",
   "metadata": {},
   "source": [
    "# create markdown"
   ]
  },
  {
   "cell_type": "code",
   "execution_count": 7,
   "metadata": {},
   "outputs": [],
   "source": [
    "from mdutils.mdutils import MdUtils\n",
    "\n",
    "def create_md(path):\n",
    "    mdFile = MdUtils(file_name=path,title='Markdown File Example')\n",
    "\n",
    "    mdFile.new_header(level=1, title='Objective')\n",
    "    mdFile.new_line('  - Inline link: ')\n",
    "    mdFile.new_line('  - Inline link: ') \n",
    "    mdFile.new_header(level=1, title='Context')\n",
    "    mdFile.new_line('  - Inline link: ' )\n",
    "    mdFile.new_line('  - Inline link: ' )\n",
    "    mdFile.new_header(level=1, title='Outcome')\n",
    "    mdFile.new_list(['foo', 'bar'])\n",
    "    mdFile.new_header(level=1, title='Next Steps')\n",
    "    # mdFile.new_header(level=2, title='Atx Header 2')\n",
    "    # mdFile.new_header(level=2, title='Atx Header 2')\n",
    "    mdFile.new_paragraph(\"This is an example of text in which has been added color, bold and italics text.\", bold_italics_code='bi', color='purple')\n",
    "    mdFile.create_md_file()"
   ]
  },
  {
   "cell_type": "code",
   "execution_count": 90,
   "metadata": {},
   "outputs": [
    {
     "name": "stdout",
     "output_type": "stream",
     "text": [
      "\n",
      "Markdown File Example\n",
      "=====================\n",
      "\n"
     ]
    }
   ],
   "source": [
    "print(mdFile.title)"
   ]
  },
  {
   "cell_type": "code",
   "execution_count": 85,
   "metadata": {},
   "outputs": [
    {
     "name": "stdout",
     "output_type": "stream",
     "text": [
      "  \n",
      "---  \n",
      "name: test_project\n",
      "version: 1\n",
      "rdr-path: .rdr\n",
      "dp-path: .rdr/protocols/dp\n",
      "mp-path: .rdr/protocols/mp\n",
      "ep-path: \n",
      ".rdr/protocols/ep\n",
      "identifier-prefix: ID\n",
      "identifier-padding: 4\n",
      "protocols:\n",
      "    methods:\n",
      "  \n",
      "---\n",
      "# Objective\n",
      "  \n",
      "  - Inline link:   \n",
      "  - Inline link: \n",
      "# Context\n",
      "  \n",
      "  - Inline link:   \n",
      "  - Inline link: \n",
      "# Outcome\n",
      "\n",
      "- foo\n",
      "- bar\n",
      "\n"
     ]
    }
   ],
   "source": [
    "mdFile = MdUtils(file_name=\"foobar\",title='Markdown File Example')\n",
    "mdFile.new_line('---')\n",
    "mdFile.new_line()\n",
    "# mdFile.new_line('id: RDR0005')\n",
    "# mdFile.new_line('type: method')\n",
    "# mdFile.new_line('requires:')\n",
    "# mdFile.new_line('  - RDR0001')\n",
    "# mdFile.new_line('  - RDR0002')\n",
    "mdFile.write(config.dump())\n",
    "# mdFile.new_line()\n",
    "mdFile.new_line('---')\n",
    "\n",
    "mdFile.new_header(level=1, title='Objective')\n",
    "mdFile.new_line('  - Inline link: ')\n",
    "mdFile.new_line('  - Inline link: ') \n",
    "mdFile.new_header(level=1, title='Context')\n",
    "mdFile.new_line('  - Inline link: ' )\n",
    "mdFile.new_line('  - Inline link: ' )\n",
    "mdFile.new_header(level=1, title='Outcome')\n",
    "mdFile.new_list(['foo', 'bar'])\n",
    "print(mdFile.file_data_text)"
   ]
  },
  {
   "cell_type": "code",
   "execution_count": 91,
   "metadata": {},
   "outputs": [],
   "source": [
    "from mdutils.fileutils import MarkDownFile\n",
    "tmp = MarkDownFile.read_file('.rdr/protocols/mp/MP-0001.md')"
   ]
  },
  {
   "cell_type": "code",
   "execution_count": 93,
   "metadata": {},
   "outputs": [
    {
     "data": {
      "text/plain": [
       "'\\nMarkdown File Example\\n=====================\\n\\n# Objective\\n  \\n  - Inline Link:   \\n  - Inline Link: \\n# Context\\n  \\n  - Inline Link:   \\n  - Inline Link: \\n# Outcome\\n\\n- Foo\\n- Bar\\n\\n# Next Steps\\n\\n\\n***<Font Color=\"Purple\">This Is An Example Of Text In Which Has Been Added Color, Bold And Italics Text.</Font>***'"
      ]
     },
     "execution_count": 93,
     "metadata": {},
     "output_type": "execute_result"
    }
   ],
   "source": []
  },
  {
   "cell_type": "code",
   "execution_count": 82,
   "metadata": {},
   "outputs": [
    {
     "data": {
      "text/plain": [
       "'\\nMarkdown File Example\\n=====================\\n\\n# Objective\\n  \\n  - Inline link:   \\n  - Inline link: \\n# Context\\n  \\n  - Inline link:   \\n  - Inline link: \\n# Outcome\\n\\n- foo\\n- bar\\n\\n# Next Steps\\n\\n\\n***<font color=\"purple\">This is an example of text in which has been added color, bold and italics text.</font>***'"
      ]
     },
     "execution_count": 82,
     "metadata": {},
     "output_type": "execute_result"
    }
   ],
   "source": [
    "pt = Path(config['mp-path'].get(), \"MP-0001.md\")\n",
    "pt.read_text()"
   ]
  },
  {
   "cell_type": "code",
   "execution_count": 98,
   "metadata": {},
   "outputs": [
    {
     "data": {
      "text/plain": [
       "<mdutils.mdutils.MdUtils at 0x7f643a3c9970>"
      ]
     },
     "execution_count": 98,
     "metadata": {},
     "output_type": "execute_result"
    }
   ],
   "source": [
    "tmp = MdUtils(Path(config['mp-path'].get(), \"MP-0001.md\"))\n",
    "# new_file = MarkDownFile(Path(config['mp-path'].get(), \"MP-0001.md\").as_filename())\n",
    "# print(tmp.read_md_file('.rdr/protocols/mp/MP-0001.md'))\n"
   ]
  },
  {
   "cell_type": "code",
   "execution_count": 70,
   "metadata": {},
   "outputs": [
    {
     "data": {
      "text/plain": [
       "PosixPath('.rdr/protocols/mp/MP-0001.md')"
      ]
     },
     "execution_count": 70,
     "metadata": {},
     "output_type": "execute_result"
    }
   ],
   "source": [
    "Path(config['mp-path'].get(), \"MP-0001.md\")"
   ]
  },
  {
   "cell_type": "code",
   "execution_count": 71,
   "metadata": {},
   "outputs": [
    {
     "data": {
      "text/plain": [
       "'\\nMarkdown File Example\\n=====================\\n\\n# Objective\\n  \\n  - Inline link:   \\n  - Inline link: \\n# Context\\n  \\n  - Inline link:   \\n  - Inline link: \\n# Outcome\\n\\n- foo\\n- bar\\n\\n# Next Steps\\n\\n\\n***<font color=\"purple\">This is an example of text in which has been added color, bold and italics text.</font>***'"
      ]
     },
     "execution_count": 71,
     "metadata": {},
     "output_type": "execute_result"
    }
   ],
   "source": [
    "tmp.read_md_file('.rdr/protocols/mp/MP-0001.md')"
   ]
  },
  {
   "cell_type": "code",
   "execution_count": 18,
   "metadata": {},
   "outputs": [
    {
     "data": {
      "text/plain": [
       "'./file.yml'"
      ]
     },
     "execution_count": 18,
     "metadata": {},
     "output_type": "execute_result"
    }
   ],
   "source": [
    "os.path.join('.', 'file.yml')"
   ]
  },
  {
   "cell_type": "code",
   "execution_count": 20,
   "metadata": {},
   "outputs": [
    {
     "data": {
      "text/plain": [
       "'.rdr'"
      ]
     },
     "execution_count": 20,
     "metadata": {},
     "output_type": "execute_result"
    }
   ],
   "source": [
    "config['rdr-path'].get()"
   ]
  },
  {
   "cell_type": "code",
   "execution_count": 22,
   "metadata": {},
   "outputs": [],
   "source": [
    "from pathlib import Path\n",
    "Path(config['rdr-path'].get()).mkdir(parents=True, exist_ok=True)\n",
    "Path(config['mp-path'].get()).mkdir(parents=True, exist_ok=True)\n",
    "Path(config['dp-path'].get()).mkdir(parents=True, exist_ok=True)\n",
    "Path(config['ep-path'].get()).mkdir(parents=True, exist_ok=True)"
   ]
  },
  {
   "cell_type": "code",
   "execution_count": 21,
   "metadata": {},
   "outputs": [
    {
     "data": {
      "text/plain": [
       "['Example_Markdown.md', 'test.yml', '.rdr']"
      ]
     },
     "execution_count": 21,
     "metadata": {},
     "output_type": "execute_result"
    }
   ],
   "source": [
    "os.listdir()"
   ]
  },
  {
   "cell_type": "code",
   "execution_count": 25,
   "metadata": {},
   "outputs": [
    {
     "name": "stdout",
     "output_type": "stream",
     "text": [
      "name: test_project\n",
      "version: 1\n",
      "rdr-path: .rdr\n",
      "dp-path: .rdr/protocols/dp\n",
      "mp-path: .rdr/protocols/mp\n",
      "ep-path: .rdr/protocols/ep\n",
      "identifier-prefix: ID\n",
      "identifier-padding: 4\n",
      "protocols:\n",
      "    methods:\n",
      "\n"
     ]
    }
   ],
   "source": [
    "print(config.dump())"
   ]
  },
  {
   "cell_type": "code",
   "execution_count": 102,
   "metadata": {},
   "outputs": [],
   "source": [
    "for i in [1,2,3,11,100]:\n",
    "    create_md(os.path.join(config['rdr-path'].get(), f\"RDR-{i:0>4}\"))\n",
    "\n",
    "for i in [1,2,3,4]:\n",
    "    create_md(os.path.join(config['mp-path'].get(), f\"MP-{i:0>4}\"))\n",
    "    \n",
    "for i in [1,2]:\n",
    "    create_md(os.path.join(config['dp-path'].get(), f\"DP-{i:0>4}\"))\n",
    "\n",
    "for i in [1,2,3]:\n",
    "    create_md(os.path.join(config['ep-path'].get(), f\"EP-{i:0>4}\"))            "
   ]
  },
  {
   "cell_type": "code",
   "execution_count": 148,
   "metadata": {},
   "outputs": [
    {
     "data": {
      "text/plain": [
       "[0]"
      ]
     },
     "execution_count": 148,
     "metadata": {},
     "output_type": "execute_result"
    }
   ],
   "source": [
    "[] or [0]"
   ]
  },
  {
   "cell_type": "code",
   "execution_count": 151,
   "metadata": {},
   "outputs": [
    {
     "name": "stdout",
     "output_type": "stream",
     "text": [
      "0001\n"
     ]
    }
   ],
   "source": [
    "directory = Path(config['dp-path'].get())\n",
    "listing = list(directory.glob('*.md'))\n",
    "if listing:\n",
    "    last = max(listing)\n",
    "    next = int ( ''.join(filter(str.isdigit, last.name) ) ) + 1\n",
    "else:\n",
    "    next = 1\n",
    "print(f\"{next:0>4}\")"
   ]
  },
  {
   "cell_type": "code",
   "execution_count": 53,
   "metadata": {},
   "outputs": [
    {
     "data": {
      "text/plain": [
       "'.rdr/protocols/mp'"
      ]
     },
     "execution_count": 53,
     "metadata": {},
     "output_type": "execute_result"
    }
   ],
   "source": [
    "config['mp-path'].get()"
   ]
  },
  {
   "cell_type": "code",
   "execution_count": 52,
   "metadata": {},
   "outputs": [
    {
     "data": {
      "text/plain": [
       "[]"
      ]
     },
     "execution_count": 52,
     "metadata": {},
     "output_type": "execute_result"
    }
   ],
   "source": [
    "directory = Path(config['mp-path'].as_filename())\n",
    "listing = list(directory.glob('*.md'))\n",
    "listing"
   ]
  },
  {
   "cell_type": "code",
   "execution_count": 56,
   "metadata": {},
   "outputs": [
    {
     "data": {
      "text/plain": [
       "True"
      ]
     },
     "execution_count": 56,
     "metadata": {},
     "output_type": "execute_result"
    }
   ],
   "source": [
    "Path(config['mp-path'].get(), \"MP-0001.md\").exists()"
   ]
  },
  {
   "cell_type": "code",
   "execution_count": 155,
   "metadata": {},
   "outputs": [
    {
     "data": {
      "text/plain": [
       "['MP-001.md',\n",
       " 'MP-002.md',\n",
       " 'MP-003.md',\n",
       " 'MP-0001.md',\n",
       " 'MP-0002.md',\n",
       " 'MP-0003.md',\n",
       " 'MP-0004.md']"
      ]
     },
     "execution_count": 155,
     "metadata": {},
     "output_type": "execute_result"
    }
   ],
   "source": [
    "[_.name for _ in listing]"
   ]
  },
  {
   "cell_type": "code",
   "execution_count": 85,
   "metadata": {},
   "outputs": [
    {
     "data": {
      "text/plain": [
       "'  \\n---  \\nname: test_project\\nversion: 1\\nrdr-path: .rdr\\ndp-path: .rdr/protocols/dp\\nmp-path: .rdr/protocols/mp\\nep-path: \\n.rdr/protocols/ep\\nidentifier-prefix: ID\\nidentifier-padding: 4\\nprotocols:\\n    methods:\\n  \\n---'"
      ]
     },
     "execution_count": 85,
     "metadata": {},
     "output_type": "execute_result"
    }
   ],
   "source": []
  },
  {
   "cell_type": "markdown",
   "metadata": {},
   "source": [
    "# RICH"
   ]
  },
  {
   "cell_type": "code",
   "execution_count": 88,
   "metadata": {},
   "outputs": [
    {
     "data": {
      "text/html": [
       "<pre style=\"white-space:pre;overflow-x:auto;line-height:normal;font-family:Menlo,'DejaVu Sans Mono',consolas,'Courier New',monospace\"><span style=\"color: #808000; text-decoration-color: #808000\">─────────────────────────────────────────────────────────────────────────────────────────────</span>\n",
       "name: test_project version: 1 rdr-path: .rdr dp-path: .rdr/protocols/dp mp-path:             \n",
       ".rdr/protocols/mp ep-path: .rdr/protocols/ep identifier-prefix: ID identifier-padding: 4     \n",
       "protocols: methods:                                                                          \n",
       "\n",
       "<span style=\"color: #808000; text-decoration-color: #808000\">─────────────────────────────────────────────────────────────────────────────────────────────</span>\n",
       "╔═══════════════════════════════════════════════════════════════════════════════════════════╗\n",
       "║                                         <span style=\"font-weight: bold\">Objective</span>                                         ║\n",
       "╚═══════════════════════════════════════════════════════════════════════════════════════════╝\n",
       "\n",
       "<span style=\"color: #808000; text-decoration-color: #808000; font-weight: bold\"> • </span>Inline link:                                                                              \n",
       "<span style=\"color: #808000; text-decoration-color: #808000; font-weight: bold\"> • </span>Inline link:                                                                              \n",
       "\n",
       "╔═══════════════════════════════════════════════════════════════════════════════════════════╗\n",
       "║                                          <span style=\"font-weight: bold\">Context</span>                                          ║\n",
       "╚═══════════════════════════════════════════════════════════════════════════════════════════╝\n",
       "\n",
       "<span style=\"color: #808000; text-decoration-color: #808000; font-weight: bold\"> • </span>Inline link:                                                                              \n",
       "<span style=\"color: #808000; text-decoration-color: #808000; font-weight: bold\"> • </span>Inline link:                                                                              \n",
       "\n",
       "╔═══════════════════════════════════════════════════════════════════════════════════════════╗\n",
       "║                                          <span style=\"font-weight: bold\">Outcome</span>                                          ║\n",
       "╚═══════════════════════════════════════════════════════════════════════════════════════════╝\n",
       "\n",
       "<span style=\"color: #808000; text-decoration-color: #808000; font-weight: bold\"> • </span>foo                                                                                       \n",
       "<span style=\"color: #808000; text-decoration-color: #808000; font-weight: bold\"> • </span>bar                                                                                       \n",
       "</pre>\n"
      ],
      "text/plain": [
       "\u001b[33m─────────────────────────────────────────────────────────────────────────────────────────────\u001b[0m\n",
       "name: test_project version: 1 rdr-path: .rdr dp-path: .rdr/protocols/dp mp-path:             \n",
       ".rdr/protocols/mp ep-path: .rdr/protocols/ep identifier-prefix: ID identifier-padding: 4     \n",
       "protocols: methods:                                                                          \n",
       "\n",
       "\u001b[33m─────────────────────────────────────────────────────────────────────────────────────────────\u001b[0m\n",
       "╔═══════════════════════════════════════════════════════════════════════════════════════════╗\n",
       "║                                         \u001b[1mObjective\u001b[0m                                         ║\n",
       "╚═══════════════════════════════════════════════════════════════════════════════════════════╝\n",
       "\n",
       "\u001b[1;33m • \u001b[0mInline link:                                                                              \n",
       "\u001b[1;33m • \u001b[0mInline link:                                                                              \n",
       "\n",
       "╔═══════════════════════════════════════════════════════════════════════════════════════════╗\n",
       "║                                          \u001b[1mContext\u001b[0m                                          ║\n",
       "╚═══════════════════════════════════════════════════════════════════════════════════════════╝\n",
       "\n",
       "\u001b[1;33m • \u001b[0mInline link:                                                                              \n",
       "\u001b[1;33m • \u001b[0mInline link:                                                                              \n",
       "\n",
       "╔═══════════════════════════════════════════════════════════════════════════════════════════╗\n",
       "║                                          \u001b[1mOutcome\u001b[0m                                          ║\n",
       "╚═══════════════════════════════════════════════════════════════════════════════════════════╝\n",
       "\n",
       "\u001b[1;33m • \u001b[0mfoo                                                                                       \n",
       "\u001b[1;33m • \u001b[0mbar                                                                                       \n"
      ]
     },
     "metadata": {},
     "output_type": "display_data"
    }
   ],
   "source": [
    "MARKDOWN = \"\"\"\n",
    "# This is an h1\n",
    "\n",
    "Rich can do a pretty *decent* job of rendering markdown.\n",
    "\n",
    "1. This is a list item\n",
    "2. This is another list item\n",
    "\"\"\"\n",
    "from rich.console import Console\n",
    "from rich.markdown import Markdown\n",
    "\n",
    "console = Console()\n",
    "md = Markdown(mdFile.file_data_text)\n",
    "console.print(md)"
   ]
  },
  {
   "cell_type": "code",
   "execution_count": 1,
   "metadata": {},
   "outputs": [],
   "source": [
    "# import frontmatter\n",
    "import frontmatter\n",
    "\n",
    "with open('/workspace/example/subdir1/.rdr/Example_Markdown.md') as f:\n",
    "    post = frontmatter.load(f)"
   ]
  },
  {
   "cell_type": "code",
   "execution_count": 6,
   "metadata": {},
   "outputs": [
    {
     "data": {
      "text/plain": [
       "{'id': 'RDR-0002', 'type': 'method', 'requires': ['RDR0001', 'RDR0002']}"
      ]
     },
     "execution_count": 6,
     "metadata": {},
     "output_type": "execute_result"
    }
   ],
   "source": [
    "# post.metadata['id'] = 'RDR-0001'\n",
    "post['id'] = 'RDR-0002'\n",
    "post.metadata"
   ]
  },
  {
   "cell_type": "code",
   "execution_count": 7,
   "metadata": {},
   "outputs": [],
   "source": [
    "# frontmatter.dumps(post)\n",
    "# os.listdir()\n",
    "post.get('title')"
   ]
  },
  {
   "cell_type": "code",
   "execution_count": 38,
   "metadata": {},
   "outputs": [],
   "source": [
    "with open(\"foo.md\", 'w') as f:\n",
    "    f.write(frontmatter.dumps(post))\n",
    "    # frontmatter.dump(post, f)"
   ]
  },
  {
   "cell_type": "markdown",
   "metadata": {},
   "source": [
    "post"
   ]
  },
  {
   "cell_type": "code",
   "execution_count": 32,
   "metadata": {},
   "outputs": [
    {
     "data": {
      "text/plain": [
       "{'id': 'RDR-0001', 'type': 'method', 'requires': ['RDR0001', 'RDR0002']}"
      ]
     },
     "execution_count": 32,
     "metadata": {},
     "output_type": "execute_result"
    }
   ],
   "source": [
    "post.metadata"
   ]
  },
  {
   "cell_type": "code",
   "execution_count": 11,
   "metadata": {},
   "outputs": [
    {
     "name": "stdout",
     "output_type": "stream",
     "text": [
      "id\n",
      "RDR-0002\n",
      "type\n",
      "method\n",
      "requires\n",
      "['RDR0001', 'RDR0002']\n"
     ]
    }
   ],
   "source": [
    "for k in post.keys():\n",
    "    print(k)\n",
    "    print(post[k])"
   ]
  },
  {
   "cell_type": "markdown",
   "metadata": {},
   "source": [
    "# HIERARCHY CONFIG"
   ]
  },
  {
   "cell_type": "code",
   "execution_count": 12,
   "metadata": {},
   "outputs": [],
   "source": [
    "import hiyapyco"
   ]
  },
  {
   "cell_type": "code",
   "execution_count": 18,
   "metadata": {},
   "outputs": [
    {
     "data": {
      "text/plain": [
       "['./example/design.yml', './example/design2.yml']"
      ]
     },
     "execution_count": 18,
     "metadata": {},
     "output_type": "execute_result"
    }
   ],
   "source": [
    "import glob\n",
    "glob.glob(\"./example/*.yml\")"
   ]
  },
  {
   "cell_type": "code",
   "execution_count": 32,
   "metadata": {},
   "outputs": [],
   "source": [
    "design = hiyapyco.load(\n",
    "    glob.glob(\"./example/*.yml\"),\n",
    "    method=hiyapyco.METHOD_MERGE,\n",
    "    interpolate=True\n",
    ")"
   ]
  },
  {
   "cell_type": "code",
   "execution_count": 41,
   "metadata": {},
   "outputs": [
    {
     "data": {
      "text/plain": [
       "[{'name': 'study_of_something',\n",
       "  'protocol': 'EP0001',\n",
       "  'description': 'Replica study of something.',\n",
       "  'design': {'methods': ['first_approach'],\n",
       "   'datasets': ['dataset1', 'dataset2', 'dataset3']}}]"
      ]
     },
     "execution_count": 41,
     "metadata": {},
     "output_type": "execute_result"
    }
   ],
   "source": [
    "# design.items()\n",
    "# design['design']\n",
    "import json\n",
    "output_dict = json.loads(json.dumps(design))\n",
    "output_dict['design'][0]['experiments']"
   ]
  },
  {
   "cell_type": "code",
   "execution_count": 34,
   "metadata": {},
   "outputs": [
    {
     "name": "stdout",
     "output_type": "stream",
     "text": [
      "design:\n",
      "- name: RDR-0001\n",
      "  methods:\n",
      "  - name: first_approach\n",
      "    protocol: MP0001\n",
      "    description: Replication study analysis.\n",
      "  experiments:\n",
      "  - name: study_of_something\n",
      "    protocol: EP0001\n",
      "    description: Replica study of something.\n",
      "    design:\n",
      "      methods:\n",
      "      - first_approach\n",
      "      datasets:\n",
      "      - dataset1\n",
      "      - dataset2\n",
      "      - dataset3\n",
      "  datasets:\n",
      "  - name: dataset1\n",
      "    protocol: DP0001\n",
      "    description: A replica of the something collection.\n",
      "  - name: dataset2\n",
      "    protocol: DP0001\n",
      "    description: A replica of the something collection.\n",
      "  - name: dataset3\n",
      "    protocol: DP0001\n",
      "    description: A replica of the something collection.\n",
      "\n"
     ]
    }
   ],
   "source": [
    "# design\n",
    "print(hiyapyco.dump(design, default_flow_style=False))"
   ]
  }
 ],
 "metadata": {
  "kernelspec": {
   "display_name": "Python 3.8.13 ('rdr-N2Yg1ilY-py3.8')",
   "language": "python",
   "name": "python3"
  },
  "language_info": {
   "codemirror_mode": {
    "name": "ipython",
    "version": 3
   },
   "file_extension": ".py",
   "mimetype": "text/x-python",
   "name": "python",
   "nbconvert_exporter": "python",
   "pygments_lexer": "ipython3",
   "version": "3.8.13"
  },
  "orig_nbformat": 4,
  "vscode": {
   "interpreter": {
    "hash": "31f1c35e62bd2a19d7a44eb598b06a22ac5fa90ab8a60192e06d1cd4a7428ab6"
   }
  }
 },
 "nbformat": 4,
 "nbformat_minor": 2
}
